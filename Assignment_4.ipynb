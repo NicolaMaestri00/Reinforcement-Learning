{
 "cells": [
  {
   "cell_type": "markdown",
   "metadata": {},
   "source": [
    "# Reinforcement Learning: Assignment 4"
   ]
  },
  {
   "cell_type": "code",
   "execution_count": 3,
   "metadata": {},
   "outputs": [],
   "source": [
    "import numpy as np\n",
    "import matplotlib.pyplot as plt\n",
    "\n",
    "\n",
    "# Visualize the grid world\n",
    "def plot_grid_world(grid_world, figsize=(5,5)):\n",
    "    plt.figure(figsize=figsize)\n",
    "    plt.imshow(1-grid_world, cmap='gray', interpolation='nearest')\n",
    "    plt.title(\"Grid World\")\n",
    "    plt.xticks([])\n",
    "    plt.yticks([])\n",
    "    plt.show()\n",
    "\n",
    "\n",
    "# Visualize the grid world, state value function, and policy\n",
    "def plot_policy(grid_world, policy=None, figsize=(10,3), title=\"Policy\"):\n",
    "    plt.figure(figsize=figsize)\n",
    "    \n",
    "    if policy is not None:\n",
    "        plt.imshow(1-grid_world, cmap='gray')\n",
    "        n_x, n_y, n_a = policy.shape\n",
    "        for i in range(n_x):\n",
    "            for j in range(n_y):\n",
    "                if grid_world[i, j] == 1 or grid_world[i, j] == 2:\n",
    "                    continue\n",
    "                if policy[i, j, 0] > 0:\n",
    "                    plt.arrow(j, i,      0 * policy[i, j, 0], -0.5 * policy[i,j,0], head_width=0.1, head_length=0.1, fc='r', ec='r')\n",
    "                if policy[i, j, 1] > 0:\n",
    "                    plt.arrow(j, i,    0.5 * policy[i, j, 1],    0 * policy[i,j,1], head_width=0.1, head_length=0.1, fc='r', ec='r')\n",
    "                if policy[i, j, 2] > 0:\n",
    "                    plt.arrow(j, i,      0 * policy[i, j, 2], +0.5 * policy[i,j,2], head_width=0.1, head_length=0.1, fc='r', ec='r')\n",
    "                if policy[i, j, 3] > 0:\n",
    "                    plt.arrow(j, i,   -0.5 * policy[i, j, 3],    0 * policy[i,j,3], head_width=0.1, head_length=0.1, fc='r', ec='r')\n",
    "        plt.title(title)\n",
    "        plt.xticks([])\n",
    "        plt.yticks([])\n",
    "\n",
    "    plt.show()"
   ]
  },
  {
   "cell_type": "code",
   "execution_count": 4,
   "metadata": {},
   "outputs": [
    {
     "data": {
      "image/png": "[encoded data removed]",
      "text/plain": [
       "<Figure size 1000x300 with 1 Axes>"
      ]
     },
     "metadata": {},
     "output_type": "display_data"
    }
   ],
   "source": [
    "# Grid world with cliff                         4x12 Matrix\n",
    "grid_world = np.zeros((4,12))\n",
    "grid_world[3,11] = 2            # goal\n",
    "grid_world[3,1:11] = 1          # cliff\n",
    "\n",
    "plot_grid_world(grid_world, figsize=(10,3))"
   ]
  },
  {
   "cell_type": "markdown",
   "metadata": {},
   "source": [
    "### Sarsa"
   ]
  },
  {
   "cell_type": "code",
   "execution_count": 30,
   "metadata": {},
   "outputs": [],
   "source": [
    "def next_epsilon_greedy_action(Q=None, S=(0,0), epsilon=0.5):\n",
    "    if np.random.rand() < epsilon: return np.random.randint(4)\n",
    "    else: return np.argmax(Q[S]) \n",
    "\n",
    "\n",
    "def Sarsa(step_size=0.9, epsilon=0.1, n_episodes=1000):\n",
    "    # Initialize Q(s,a)\n",
    "    Q = np.ones((4,12,4))*-3\n",
    "    Q[3,11] = 0\n",
    "\n",
    "    for n in range(n_episodes):\n",
    "        # Fixed initial state\n",
    "        S = (3,0)\n",
    "\n",
    "        # Choose A from S using policy derived from Q (epsilon-greedy)\n",
    "        A = next_epsilon_greedy_action(Q, S, epsilon)\n",
    "        \n",
    "        # Repeat for each step of episode\n",
    "        while S != (3,11):\n",
    "            # Take action A, observe R, S'\n",
    "            if S[0] == 3 and 1 <= S[1] <= 10:\n",
    "                S_next = (3,0)\n",
    "                R = -100\n",
    "            else:\n",
    "                if A == 0:      S_next = (max(0, S[0]-1), S[1])\n",
    "                elif A == 1:    S_next = (S[0], min(11, S[1]+1))\n",
    "                elif A == 2:    S_next = (min(3, S[0]+1), S[1])\n",
    "                elif A == 3:    S_next = (S[0], max(0, S[1]-1))\n",
    "                R = -1\n",
    "\n",
    "            # Choose A' from S' using policy derived from Q (epsilon-greedy)\n",
    "            A_next = next_epsilon_greedy_action(Q, S, epsilon)\n",
    "            \n",
    "            # Q update\n",
    "            Q[S][A] += step_size * (R + Q[S_next][A_next] - Q[S][A])\n",
    "\n",
    "            S = S_next\n",
    "            A = A_next\n",
    "\n",
    "    policy = np.zeros((4,12,4))\n",
    "    for i in range(4):\n",
    "        for j in range(12):\n",
    "            idx = np.argmax(Q[i,j])\n",
    "            policy[i,j,idx] = 1\n",
    "    \n",
    "    return policy"
   ]
  },
  {
   "cell_type": "markdown",
   "metadata": {},
   "source": [
    "### Expected Sarsa"
   ]
  },
  {
   "cell_type": "markdown",
   "metadata": {},
   "source": [
    "#### Expected Sarsa: $\\epsilon$-greedy policy from Q"
   ]
  },
  {
   "cell_type": "code",
   "execution_count": 31,
   "metadata": {},
   "outputs": [],
   "source": [
    "def next_epsilon_greedy_action(Q=None, S=(0,0), epsilon=0.5):\n",
    "    if np.random.rand() < epsilon: return np.random.randint(4)\n",
    "    else: return np.argmax(Q[S])\n",
    "\n",
    "def expected_next_action(Q=None, S=(0,0), epsilon=0.5):\n",
    "    A_max = np.argmax(Q[S])\n",
    "    return sum(Q[S])*epsilon/len(Q[S])+(1-epsilon)*Q[S][A_max]\n",
    "\n",
    "def expected_sarsa(step_size=0.01, epsilon=0.1, n_episodes=1000):\n",
    "    # Initialize Q(s,a)\n",
    "    Q = np.ones((4,12,4))*-3\n",
    "    Q[3,11] = 0\n",
    "\n",
    "    for n in range(n_episodes):\n",
    "        # Fixed initial state\n",
    "        S = (3,0)\n",
    "        \n",
    "        # Repeat for each step of episode\n",
    "        while S != (3,11):\n",
    "            # Choose A from S using policy derived from Q (epsilon-greedy)\n",
    "            A = next_epsilon_greedy_action(Q, S, epsilon)\n",
    "            \n",
    "            # Take action A, observe R, S'\n",
    "            if S[0] == 3 and 1 <= S[1] <= 10:\n",
    "                S_next = (3,0)\n",
    "                R = -100\n",
    "            else:\n",
    "                if A == 0:      S_next = (max(0, S[0]-1), S[1])\n",
    "                elif A == 1:    S_next = (S[0], min(11, S[1]+1))\n",
    "                elif A == 2:    S_next = (min(3, S[0]+1), S[1])\n",
    "                elif A == 3:    S_next = (S[0], max(0, S[1]-1))\n",
    "                R = -1\n",
    "\n",
    "            \n",
    "            # Q update\n",
    "            expected_sum = expected_next_action(Q, S_next, epsilon)\n",
    "            Q[S][A] += step_size * (R + expected_sum - Q[S][A])\n",
    "\n",
    "            # Update S\n",
    "            S = S_next\n",
    "\n",
    "    policy = np.zeros((4,12,4))\n",
    "    for i in range(4):\n",
    "        for j in range(12):\n",
    "            idx = np.argmax(Q[i,j])\n",
    "            policy[i,j,idx] = 1\n",
    "    \n",
    "    return policy"
   ]
  },
  {
   "cell_type": "code",
   "execution_count": 35,
   "metadata": {},
   "outputs": [
    {
     "data": {
      "image/png": "[encoded data removed]",
      "text/plain": [
       "<Figure size 1000x300 with 1 Axes>"
      ]
     },
     "metadata": {},
     "output_type": "display_data"
    },
    {
     "data": {
      "image/png": "[encoded data removed]",
      "text/plain": [
       "<Figure size 1000x300 with 1 Axes>"
      ]
     },
     "metadata": {},
     "output_type": "display_data"
    }
   ],
   "source": [
    "# Grid world with cliff                         4x12 Matrix\n",
    "grid_world = np.zeros((4,12))\n",
    "grid_world[3,11] = 2            # goal\n",
    "grid_world[3,1:11] = 1          # cliff\n",
    "\n",
    "\n",
    "policy = np.ones((4,12,4))/4\n",
    "plot_policy(grid_world, policy, title=\"Initial Policy\")\n",
    "policy = expected_sarsa(step_size=0.1, epsilon=0.5, n_episodes=10000)\n",
    "plot_policy(grid_world, policy, title=\"Expected Sarsa\")"
   ]
  },
  {
   "cell_type": "markdown",
   "metadata": {},
   "source": [
    "#### Expected Sarsa: Softmax policy from Q"
   ]
  },
  {
   "cell_type": "code",
   "execution_count": null,
   "metadata": {},
   "outputs": [],
   "source": [
    "\n",
    "\n",
    "def next_epsilon_greedy_action(Q=None, S=(0,0)):\n",
    "\n",
    "    A_prob = softmax()\n",
    "    if np.random.rand() < epsilon: return np.random.randint(4)\n",
    "    else: return np.argmax(Q[S])\n",
    "\n",
    "def expected_next_action(Q=None, S=(0,0), epsilon=0.5):\n",
    "    A_max = np.argmax(Q[S])\n",
    "    return sum(Q[S])*epsilon/len(Q[S])+(1-epsilon)*Q[S][A_max]\n",
    "\n",
    "def expected_sarsa(step_size=0.01, epsilon=0.1, n_episodes=1000):\n",
    "    # Initialize Q(s,a)\n",
    "    Q = np.ones((4,12,4))*-3\n",
    "    Q[3,11] = 0\n",
    "\n",
    "    for n in range(n_episodes):\n",
    "        # Fixed initial state\n",
    "        S = (3,0)\n",
    "        \n",
    "        # Repeat for each step of episode\n",
    "        while S != (3,11):\n",
    "            # Choose A from S using policy derived from Q (epsilon-greedy)\n",
    "            A = next_epsilon_greedy_action(Q, S, epsilon)\n",
    "            \n",
    "            # Take action A, observe R, S'\n",
    "            if S[0] == 3 and 1 <= S[1] <= 10:\n",
    "                S_next = (3,0)\n",
    "                R = -100\n",
    "            else:\n",
    "                if A == 0:      S_next = (max(0, S[0]-1), S[1])\n",
    "                elif A == 1:    S_next = (S[0], min(11, S[1]+1))\n",
    "                elif A == 2:    S_next = (min(3, S[0]+1), S[1])\n",
    "                elif A == 3:    S_next = (S[0], max(0, S[1]-1))\n",
    "                R = -1\n",
    "\n",
    "            \n",
    "            # Q update\n",
    "            expected_sum = expected_next_action(Q, S_next, epsilon)\n",
    "            Q[S][A] += step_size * (R + expected_sum - Q[S][A])\n",
    "\n",
    "            # Update S\n",
    "            S = S_next\n",
    "\n",
    "    policy = np.zeros((4,12,4))\n",
    "    for i in range(4):\n",
    "        for j in range(12):\n",
    "            idx = np.argmax(Q[i,j])\n",
    "            policy[i,j,idx] = 1\n",
    "    \n",
    "    return policy"
   ]
  }
 ],
 "metadata": {
  "kernelspec": {
   "display_name": "Python 3",
   "language": "python",
   "name": "python3"
  },
  "language_info": {
   "codemirror_mode": {
    "name": "ipython",
    "version": 3
   },
   "file_extension": ".py",
   "mimetype": "text/x-python",
   "name": "python",
   "nbconvert_exporter": "python",
   "pygments_lexer": "ipython3",
   "version": "3.11.9"
  }
 },
 "nbformat": 4,
 "nbformat_minor": 2
}
