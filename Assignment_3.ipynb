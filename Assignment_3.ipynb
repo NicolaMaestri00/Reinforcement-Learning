{
 "cells": [
  {
   "cell_type": "markdown",
   "metadata": {},
   "source": [
    "# Reinforcement Learning: Assignment 3"
   ]
  },
  {
   "cell_type": "code",
   "execution_count": 1,
   "metadata": {},
   "outputs": [],
   "source": [
    "import numpy as np\n",
    "import matplotlib.pyplot as plt\n",
    "\n",
    "\n",
    "# Visualize the grid world\n",
    "def plot_grid_world(grid_world, figsize=(5,5)):\n",
    "    plt.figure(figsize=figsize)\n",
    "    plt.imshow(1-grid_world, cmap='gray', interpolation='nearest')\n",
    "    plt.title(\"Grid World\")\n",
    "    plt.xticks([])\n",
    "    plt.yticks([])\n",
    "    plt.show()\n",
    "\n",
    "\n",
    "# Visualize the grid world, state value function, and policy\n",
    "def plot_policy(grid_world, policy=None, figsize=(10,3), title=\"Policy\"):\n",
    "    plt.figure(figsize=figsize)\n",
    "    \n",
    "    if policy is not None:\n",
    "        plt.imshow(1-grid_world, cmap='gray')\n",
    "        n_x, n_y, n_a = policy.shape\n",
    "        for i in range(n_x):\n",
    "            for j in range(n_y):\n",
    "                if grid_world[i, j] == 1 or grid_world[i, j] == 2:\n",
    "                    continue\n",
    "                if policy[i, j, 0] > 0:\n",
    "                    plt.arrow(j, i,      0 * policy[i, j, 0], -0.5 * policy[i,j,0], head_width=0.1, head_length=0.1, fc='r', ec='r')\n",
    "                if policy[i, j, 1] > 0:\n",
    "                    plt.arrow(j, i,    0.5 * policy[i, j, 1],    0 * policy[i,j,1], head_width=0.1, head_length=0.1, fc='r', ec='r')\n",
    "                if policy[i, j, 2] > 0:\n",
    "                    plt.arrow(j, i,      0 * policy[i, j, 2], +0.5 * policy[i,j,2], head_width=0.1, head_length=0.1, fc='r', ec='r')\n",
    "                if policy[i, j, 3] > 0:\n",
    "                    plt.arrow(j, i,   -0.5 * policy[i, j, 3],    0 * policy[i,j,3], head_width=0.1, head_length=0.1, fc='r', ec='r')\n",
    "        plt.title(title)\n",
    "        plt.xticks([])\n",
    "        plt.yticks([])\n",
    "\n",
    "    plt.show()"
   ]
  },
  {
   "cell_type": "markdown",
   "metadata": {},
   "source": [
    "### MC control"
   ]
  },
  {
   "cell_type": "code",
   "execution_count": 2,
   "metadata": {},
   "outputs": [],
   "source": [
    "import numpy as np\n",
    "\n",
    "def generate_episode():\n",
    "    S = []\n",
    "    A = []\n",
    "    R = []\n",
    "    T_max = 1000\n",
    "\n",
    "    # Random initial state\n",
    "    S.append([np.random.randint(4), np.random.randint(4)])\n",
    "    # S.append([3,2])\n",
    "\n",
    "    if S[-1]!=[0,0] and S[-1]!=[3,3]:\n",
    "        A.append(np.random.randint(4))\n",
    "        R.append(-1)\n",
    "    else:\n",
    "        A.append(0)\n",
    "        R.append(0)\n",
    "    \n",
    "    for t in range(T_max):\n",
    "        if S[-1] == [0,0] or S[-1]==[3,3]:\n",
    "            break\n",
    "        elif A[-1] == 0:\n",
    "            next_state = [max(0, S[-1][0]-1), S[-1][1]]\n",
    "        elif A[-1] == 1:\n",
    "            next_state = [S[-1][0], min(3, S[-1][1]+1)]\n",
    "        elif A[-1] == 2:\n",
    "            next_state = [min(3, S[-1][0]+1), S[-1][1]]\n",
    "        elif A[-1] == 3:\n",
    "            next_state = [S[-1][0], max(0, S[-1][1]-1)]\n",
    "        \n",
    "        S.append(next_state)\n",
    "\n",
    "        if S[-1]!=[0,0] and S[-1]!=[3,3]:\n",
    "            A.append(np.random.randint(4))\n",
    "            R.append(-1)\n",
    "        else:\n",
    "            A.append(0)\n",
    "            R.append(0)\n",
    "    \n",
    "    return S, A, R\n"
   ]
  },
  {
   "cell_type": "code",
   "execution_count": 3,
   "metadata": {},
   "outputs": [],
   "source": [
    "def MC_control(n_episodes=1000):\n",
    "    # Initialize\n",
    "    Q = np.zeros((4, 4, 4))\n",
    "    C = np.zeros((4, 4, 4))\n",
    "    policy = np.zeros((4, 4, 4))\n",
    "    policy[:, :, 0] = 1\n",
    "\n",
    "    # Loop for each episode\n",
    "    for _ in range(n_episodes):\n",
    "        # Generate an episode\n",
    "        S, A, R = generate_episode()\n",
    "        G = 0\n",
    "        W = 1\n",
    "        flag = 0\n",
    "        # Loop for each step of episode\n",
    "        for t in range(len(S)-2, -1, -1):\n",
    "            # print(t)\n",
    "            G = 1*G + R[t]\n",
    "            C[S[t][0], S[t][1], A[t]] += W\n",
    "            Q[S[t][0], S[t][1], A[t]] += W/C[S[t][0], S[t][1], A[t]]*(G-Q[S[t][0], S[t][1], A[t]])\n",
    "            idx = np.argmax(Q[S[t][0], S[t][1]])\n",
    "            policy[S[t][0], S[t][1]] = 0\n",
    "            policy[S[t][0], S[t][1], idx] = 1\n",
    "            if idx != A[t]:\n",
    "                break\n",
    "            W = W/0.25\n",
    "    \n",
    "    return policy"
   ]
  },
  {
   "cell_type": "code",
   "execution_count": 4,
   "metadata": {},
   "outputs": [
    {
     "data": {
      "image/png": "[encoded data removed]",
      "text/plain": [
       "<Figure size 1000x300 with 1 Axes>"
      ]
     },
     "metadata": {},
     "output_type": "display_data"
    }
   ],
   "source": [
    "# Grid World                                    4x4 Matrix\n",
    "grid_world = np.zeros((4,4))\n",
    "grid_world[0,0] = 1\n",
    "grid_world[3,3] = 1\n",
    "\n",
    "policy = MC_control(n_episodes=1000)\n",
    "\n",
    "plot_policy(grid_world=grid_world, policy=policy)"
   ]
  },
  {
   "cell_type": "markdown",
   "metadata": {},
   "source": [
    "### Grid world with cliff"
   ]
  },
  {
   "cell_type": "code",
   "execution_count": 5,
   "metadata": {},
   "outputs": [
    {
     "data": {
      "image/png": "[encoded data removed]",
      "text/plain": [
       "<Figure size 1000x300 with 1 Axes>"
      ]
     },
     "metadata": {},
     "output_type": "display_data"
    }
   ],
   "source": [
    "# Grid world with cliff                         4x12 Matrix\n",
    "grid_world = np.zeros((4,12))\n",
    "grid_world[3,11] = 2            # goal\n",
    "grid_world[3,1:11] = 1          # cliff\n",
    "\n",
    "plot_grid_world(grid_world, figsize=(10,3))"
   ]
  },
  {
   "cell_type": "markdown",
   "metadata": {},
   "source": [
    "### Tabular Sarsa"
   ]
  },
  {
   "cell_type": "code",
   "execution_count": 6,
   "metadata": {},
   "outputs": [],
   "source": [
    "def Sarsa(step_size=0.9, epsilon=0.1, n_episodes=1000):\n",
    "    # Initialize Q(s,a)\n",
    "    Q = np.zeros((4,12,4))\n",
    "    Q[3,11] = 10\n",
    "    Q[3,1:11] = -100\n",
    "\n",
    "    for n in range(n_episodes):\n",
    "        # Fixed initial state\n",
    "        S = [3,0]\n",
    "\n",
    "        \n",
    "\n",
    "        # Choose A from S using policy derived from Q (epsilon-greedy)\n",
    "        if np.random.rand() < epsilon:\n",
    "            A = np.random.randint(4)\n",
    "        else:\n",
    "            A = np.argmax(Q[S[0], S[1]])\n",
    "        \n",
    "        # Repeat for each step of episode\n",
    "        while S != [3,11]:\n",
    "            # Take action A, observe R, S'\n",
    "\n",
    "            if S[0] == 3 and 1 <= S[1] <= 10:\n",
    "                S_next = [3,0]\n",
    "                R = -100\n",
    "            else:\n",
    "                if A == 0:\n",
    "                    S_next = [max(0, S[0]-1), S[1]]\n",
    "                elif A == 1:\n",
    "                    S_next = [S[0], min(11, S[1]+1)]\n",
    "                elif A == 2:\n",
    "                    S_next = [min(3, S[0]+1), S[1]]\n",
    "                elif A == 3:\n",
    "                    S_next = [S[0], max(0, S[1]-1)]\n",
    "                R = -1\n",
    "\n",
    "            # Choose A' from S' using policy derived from Q (epsilon-greedy)\n",
    "            if np.random.rand() < epsilon:\n",
    "                A_next = np.random.randint(4)\n",
    "            else:\n",
    "                A_next = np.argmax(Q[S_next[0], S_next[1]])\n",
    "            \n",
    "            # Q update\n",
    "            Q[S[0], S[1], A] += step_size * (R + Q[S_next[0], S_next[1], A_next] - Q[S[0], S[1], A])\n",
    "\n",
    "            S = S_next\n",
    "            A = A_next\n",
    "\n",
    "    policy = np.zeros((4,12,4))\n",
    "    for i in range(4):\n",
    "        for j in range(12):\n",
    "            idx = np.argmax(Q[i,j])\n",
    "            policy[i,j,idx] = 1\n",
    "    \n",
    "    return policy"
   ]
  },
  {
   "cell_type": "code",
   "execution_count": 7,
   "metadata": {},
   "outputs": [
    {
     "data": {
      "image/png": "[encoded data removed]",
      "text/plain": [
       "<Figure size 1000x300 with 1 Axes>"
      ]
     },
     "metadata": {},
     "output_type": "display_data"
    }
   ],
   "source": [
    "# Grid world with cliff                         4x12 Matrix\n",
    "grid_world = np.zeros((4,12))\n",
    "grid_world[3,11] = 2            # goal\n",
    "grid_world[3,1:11] = 1          # cliff\n",
    "\n",
    "\n",
    "policy = Sarsa(step_size=0.1, epsilon=0.5, n_episodes=10000)\n",
    "plot_policy(grid_world, policy, title=\"Sarsa\")"
   ]
  },
  {
   "cell_type": "markdown",
   "metadata": {},
   "source": [
    "### Tabular Q-learning"
   ]
  },
  {
   "cell_type": "code",
   "execution_count": 8,
   "metadata": {},
   "outputs": [],
   "source": [
    "def Q_learning(step_size=0.9, epsilon=0.1, n_episodes=1000):\n",
    "    # Initialize Q(s,a)\n",
    "    Q = np.zeros((4,12,4))\n",
    "    Q[3,11] = 10\n",
    "    Q[3,1:11] = -100\n",
    "\n",
    "    for n in range(n_episodes):\n",
    "        # Initialize S\n",
    "        S = [3,0]\n",
    "\n",
    "        # Repeat for each step of episode\n",
    "        while S != [3,11]:\n",
    "            # Choose A from S using policy derived from Q (epsilon-greedy)\n",
    "            if np.random.rand() < epsilon:\n",
    "                A = np.random.randint(4)\n",
    "            else:\n",
    "                A = np.argmax(Q[S[0], S[1]])\n",
    "            \n",
    "            # Take action A, observe R, S'\n",
    "            if S[0] == 3 and 1 <= S[1] <= 10:\n",
    "                S_next = [3,0]\n",
    "                R = -100\n",
    "            else:\n",
    "                if A == 0:\n",
    "                    S_next = [max(0, S[0]-1), S[1]]\n",
    "                elif A == 1:\n",
    "                    S_next = [S[0], min(11, S[1]+1)]\n",
    "                elif A == 2:\n",
    "                    S_next = [min(3, S[0]+1), S[1]]\n",
    "                elif A == 3:\n",
    "                    S_next = [S[0], max(0, S[1]-1)]\n",
    "                R = -1\n",
    "            \n",
    "            # Q update\n",
    "            Q[S[0], S[1], A] += step_size * (R + np.max(Q[S_next[0], S_next[1]]) - Q[S[0], S[1], A])\n",
    "\n",
    "            S = S_next\n",
    "\n",
    "    policy = np.zeros((4,12,4))\n",
    "    for i in range(4):\n",
    "        for j in range(12):\n",
    "            idx = np.argmax(Q[i,j])\n",
    "            policy[i,j,idx] = 1\n",
    "\n",
    "    return policy"
   ]
  },
  {
   "cell_type": "code",
   "execution_count": 9,
   "metadata": {},
   "outputs": [
    {
     "data": {
      "image/png": "[encoded data removed]",
      "text/plain": [
       "<Figure size 1000x300 with 1 Axes>"
      ]
     },
     "metadata": {},
     "output_type": "display_data"
    }
   ],
   "source": [
    "# Grid world with cliff                         4x12 Matrix\n",
    "grid_world = np.zeros((4,12))\n",
    "grid_world[3,11] = 2            # goal\n",
    "grid_world[3,1:11] = 1          # cliff\n",
    "\n",
    "\n",
    "policy = Q_learning(step_size=0.1, epsilon=0.5, n_episodes=10000)\n",
    "plot_policy(grid_world, policy, title=\"Q-learning\")"
   ]
  },
  {
   "cell_type": "code",
   "execution_count": null,
   "metadata": {},
   "outputs": [],
   "source": []
  }
 ],
 "metadata": {
  "kernelspec": {
   "display_name": "Python 3",
   "language": "python",
   "name": "python3"
  },
  "language_info": {
   "codemirror_mode": {
    "name": "ipython",
    "version": 3
   },
   "file_extension": ".py",
   "mimetype": "text/x-python",
   "name": "python",
   "nbconvert_exporter": "python",
   "pygments_lexer": "ipython3",
   "version": "3.11.9"
  }
 },
 "nbformat": 4,
 "nbformat_minor": 2
}
