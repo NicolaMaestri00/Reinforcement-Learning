{
 "cells": [
  {
   "cell_type": "code",
   "execution_count": 2,
   "metadata": {},
   "outputs": [],
   "source": [
    "import numpy as np\n",
    "\n",
    "def generate_episode():\n",
    "    S = []\n",
    "    A = []\n",
    "    R = []\n",
    "    T_max = 1000\n",
    "\n",
    "    # Random initial state\n",
    "    S.append([np.random.randint(4), np.random.randint(4)])\n",
    "\n",
    "    if S[-1]!=[0,0] and S[-1]!=[3,3]:\n",
    "        A.append(np.random.randint(4))\n",
    "        R.append(-1)\n",
    "    else:\n",
    "        A.append(0)\n",
    "        R.append(0)\n",
    "    \n",
    "    for t in range(T_max):\n",
    "        if S[-1] == [0,0] or S[-1]==[3,3]:\n",
    "            break\n",
    "        elif A[-1] == 0:\n",
    "            next_state = [max(0, S[-1][0]-1), S[-1][1]]\n",
    "        elif A[-1] == 1:\n",
    "            next_state = [S[-1][0], min(3, S[-1][1]+1)]\n",
    "        elif A[-1] == 2:\n",
    "            next_state = [min(3, S[-1][0]+1), S[-1][1]]\n",
    "        elif A[-1] == 3:\n",
    "            next_state = [S[-1][0], max(0, S[-1][1]-1)]\n",
    "        \n",
    "        S.append(next_state)\n",
    "\n",
    "        if S[-1]!=[0,0] and S[-1]!=[3,3]:\n",
    "            A.append(np.random.randint(4))\n",
    "            R.append(-1)\n",
    "        else:\n",
    "            A.append(0)\n",
    "            R.append(0)\n",
    "    \n",
    "    return S, A, R\n"
   ]
  },
  {
   "cell_type": "code",
   "execution_count": 3,
   "metadata": {},
   "outputs": [
    {
     "name": "stdout",
     "output_type": "stream",
     "text": [
      "[[0 0 0 0]\n",
      " [1 0 0 0]\n",
      " [0 0 0 0]\n",
      " [0 0 0 0]]\n"
     ]
    }
   ],
   "source": [
    "Q = np.zeros((4,4,4))\n",
    "C = np.zeros((4,4,4))\n",
    "policy = np.zeros((4,4), dtype=int)\n",
    "\n",
    "# implement off-policy MC control\n",
    "\n",
    "for n_episodes in range(1000):\n",
    "    S, A, R = generate_episode()\n",
    "    G = 0\n",
    "    W = 1\n",
    "\n",
    "    for t in range(len(S)-2, -1, -1):\n",
    "        G = 1*G + R[t]\n",
    "        C[S[t][0], S[t][1], A[t]] += W\n",
    "        Q[S[t][0], S[t][1], A[t]] = Q[S[t][0], S[t][1], A[t]] + (W/C[S[t][0], S[t][1], A[t]]) * (G-Q[S[t][0], S[t][1], A[t]])\n",
    "        policy[S[t][0], S[t][1]] = int(np.argmax(Q[S[t][0], S[t][1]]))\n",
    "        if policy[S[t][0], S[t][1]] != A[t]:\n",
    "            break\n",
    "        W = W*4\n",
    "\n",
    "print(policy)\n",
    "\n",
    "# for n_episodes in range(1000000):\n",
    "#     S, A, R = generate_episode()\n",
    "#     # print(len(S))\n",
    "#     G = 0\n",
    "#     W = 1\n",
    "\n",
    "#     for t in range(len(S)-2, -1, -1):\n",
    "#         G = 1*G + R[t]\n",
    "#         C[S[t][0], S[t][1], A[t]] += W\n",
    "#         Q[S[t][0], S[t][1], A[t]] = Q[S[t][0], S[t][1], A[t]] + (W/C[S[t][0], S[t][1], A[t]]) * (G-Q[S[t][0], S[t][1], A[t]])\n",
    "#         # print(Q[2, 2])\n",
    "#         policy[S[t][0], S[t][1]] = int(np.argmax(Q[S[t][0], S[t][1]]))\n",
    "#         if policy[S[t][0], S[t][1]] != A[t]:\n",
    "#             break\n",
    "#         W = W*4\n",
    "\n",
    "# print(policy)\n",
    "    "
   ]
  }
 ],
 "metadata": {
  "kernelspec": {
   "display_name": "Python 3",
   "language": "python",
   "name": "python3"
  },
  "language_info": {
   "codemirror_mode": {
    "name": "ipython",
    "version": 3
   },
   "file_extension": ".py",
   "mimetype": "text/x-python",
   "name": "python",
   "nbconvert_exporter": "python",
   "pygments_lexer": "ipython3",
   "version": "3.11.9"
  }
 },
 "nbformat": 4,
 "nbformat_minor": 2
}
